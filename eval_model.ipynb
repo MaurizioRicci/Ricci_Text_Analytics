{
 "cells": [
  {
   "cell_type": "code",
   "execution_count": null,
   "metadata": {},
   "outputs": [],
   "source": [
    "# %load eval_model.py\n",
    "from nltk.corpus import treebank\n",
    "import BERT_model\n",
    "from pytorch_pretrained_bert import BertTokenizer\n",
    "\n",
    "tokenizer = BertTokenizer.from_pretrained('bert-base-uncased')\n",
    "\n",
    "\n",
    "class _BertTxtContainer:  # memorizza la frase più lunga che BERT possa valutare\n",
    "    def __init__(self):\n",
    "        self.tokN = 0\n",
    "        self.txt = ''\n",
    "\n",
    "    def addTxtArr(self, inputTxt):\n",
    "        tokenized = tokenizer.tokenize(inputTxt)\n",
    "        if len(tokenized) + self.tokN <= 512:\n",
    "            self.txt += inputTxt + ' '\n",
    "            self.tokN += len(tokenized)\n",
    "            return True\n",
    "        return False\n",
    "\n",
    "\n",
    "# calcolo perplexity su PennTreebank\n",
    "N = len(treebank.sents())\n",
    "perplexity = []\n",
    "print('Frasi:', N)\n",
    "bert_txt = _BertTxtContainer()\n",
    "c = 0\n",
    "\n",
    "for sent in treebank.sents()[:N]:\n",
    "    c += 1\n",
    "    sentTxt = ' '.join(sent)\n",
    "    # se ho sforato, calcolo perplexity e inserisco la frase in un nuovo oggetto\n",
    "    if not bert_txt.addTxtArr(sentTxt):\n",
    "        perplexity.append(BERT_model.get_score(bert_txt.txt))\n",
    "        # print('tokN', bert_txt.tokN, 'toks:', bert_txt.txt)\n",
    "        bert_txt = _BertTxtContainer()\n",
    "        bert_txt.addTxtArr(sentTxt)\n",
    "    print(100*c/N, '%')\n",
    "# finisco di processare l'ultimo testo\n",
    "perplexity.append(BERT_model.get_score(bert_txt.txt))\n",
    "# print('tokN', bert_txt.tokN, 'toks:', bert_txt.txt)\n",
    "\n",
    "print(perplexity)\n",
    "print('min:', min(perplexity), 'max:', max(perplexity), 'mean:',\n",
    "      sum(perplexity)/len(perplexity), 'sum:', sum(perplexity))\n"
   ]
  }
 ],
 "metadata": {
  "kernelspec": {
   "display_name": "Python 3",
   "language": "python",
   "name": "python3"
  },
  "language_info": {
   "codemirror_mode": {
    "name": "ipython",
    "version": 3
   },
   "file_extension": ".py",
   "mimetype": "text/x-python",
   "name": "python",
   "nbconvert_exporter": "python",
   "pygments_lexer": "ipython3",
   "version": "3.7.3"
  }
 },
 "nbformat": 4,
 "nbformat_minor": 2
}

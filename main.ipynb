{
 "cells": [
  {
   "cell_type": "code",
   "execution_count": 3,
   "metadata": {},
   "outputs": [
    {
     "name": "stdout",
     "output_type": "stream",
     "text": [
      "Best 3 suggestions: [{'w': 'because', 'dist': 1}, {'w': 'cause', 'dist': 3}, {'w': 'besides', 'dist': 5}]\n",
      "------------------------\n",
      "Best 3 suggestions: [{'w': 'luxurious', 'dist': 1}, {'w': 'yours', 'dist': 5}, {'w': 'ours', 'dist': 5}]\n",
      "------------------------\n",
      "Corrected text: i want to buy the car, because it is cheap. the car is also luxurious.\n",
      "Best 3 suggestions: [{'w': 'shopping', 'dist': 2}, {'w': 'shooting', 'dist': 4}, {'w': 'supper', 'dist': 5}]\n",
      "------------------------\n",
      "Corrected text: i'd like to go out for shopping.\n",
      "Best 3 suggestions: [{'w': 'university', 'dist': 1}, {'w': 'division', 'dist': 6}, {'w': 'vicinity', 'dist': 6}]\n",
      "------------------------\n",
      "Best 3 suggestions: [{'w': 'mechanics', 'dist': 1}, {'w': 'mechanic', 'dist': 2}, {'w': 'humans', 'dist': 5}]\n",
      "------------------------\n",
      "Best 3 suggestions: [{'w': 'engineers', 'dist': 2}, {'w': 'engineer', 'dist': 3}, {'w': 'teenagers', 'dist': 5}]\n",
      "------------------------\n",
      "Corrected text: we were two student from the columbus university. as mechanics engineers we design engines, power plants and other machines.\n"
     ]
    }
   ],
   "source": [
    "# %load main.py\n",
    "import bertInput\n",
    "import BERT_model\n",
    "import suggestions\n",
    "\n",
    "debug = False\n",
    "MAX_ITERATIONS = 10\n",
    "\n",
    "def correct(text):\n",
    "    # text = text.lower()\n",
    "\n",
    "    for c in range(MAX_ITERATIONS):\n",
    "        # creo l'input per BERT e ottengo la lista delle parole errate\n",
    "        bert_input, unk_words = bertInput.format_str(text, debug=debug)\n",
    "\n",
    "        if len(unk_words) > 0: # altrimenti nessun errore rilevato\n",
    "            predictions = BERT_model.predict(bert_input, debug=debug)  # ottengo predizioni da BERT\n",
    "            ordered_predictions = suggestions.evalSuggestions(predictions,  # confronto le predizioni con l'input errato\n",
    "                                                              unk_words[0], debug=debug)\n",
    "            print('Best 3 suggestions:', ordered_predictions[:3])\n",
    "\n",
    "            if len(ordered_predictions) > 0:\n",
    "                best_suggestion = ordered_predictions[0]['w']\n",
    "                text = text.replace(unk_words[0], best_suggestion)  # rimpiazzo la parola errata con la miglior scelta e cerco altri errori\n",
    "\n",
    "                if debug:\n",
    "                    print('Corrected text:', text)\n",
    "        else:  # no typo found exit loop\n",
    "            break\n",
    "        print('------------------------')\n",
    "\n",
    "    return text\n",
    "\n",
    "\n",
    "def test(testArr):\n",
    "    for txt in testArr:\n",
    "        corrected = correct(txt)\n",
    "        print('Corrected text:', corrected)\n",
    "\n",
    "\n",
    "if __name__ == '__main__':\n",
    "    testArr = [\n",
    "        'I want to buy the car, becaeuse it is cheap. The car is also luxurius.',\n",
    "        'I\\'d like to go out for shuppping.',\n",
    "        'We were two student from the Columbus Univerisity. As mecanics ennginers we design engines, power plants ' +\n",
    "        'and other machines.'\n",
    "    ]\n",
    "\n",
    "    test(testArr)\n"
   ]
  },
  {
   "cell_type": "code",
   "execution_count": null,
   "metadata": {},
   "outputs": [],
   "source": []
  }
 ],
 "metadata": {
  "kernelspec": {
   "display_name": "Python 3",
   "language": "python",
   "name": "python3"
  },
  "language_info": {
   "codemirror_mode": {
    "name": "ipython",
    "version": 3
   },
   "file_extension": ".py",
   "mimetype": "text/x-python",
   "name": "python",
   "nbconvert_exporter": "python",
   "pygments_lexer": "ipython3",
   "version": "3.7.3"
  }
 },
 "nbformat": 4,
 "nbformat_minor": 2
}
